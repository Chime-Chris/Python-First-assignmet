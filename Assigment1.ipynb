{
 "cells": [
  {
   "cell_type": "code",
   "execution_count": null,
   "id": "07e3915d",
   "metadata": {},
   "outputs": [],
   "source": []
  },
  {
   "cell_type": "code",
   "execution_count": 1,
   "id": "44ce1e98",
   "metadata": {},
   "outputs": [
    {
     "data": {
      "text/plain": [
       "[23, 40, 50, 30, 50]"
      ]
     },
     "execution_count": 1,
     "metadata": {},
     "output_type": "execute_result"
    }
   ],
   "source": [
    "#Assignment and Equality\n",
    "x = [23, 40, 50, 30, 50]\n",
    "x"
   ]
  },
  {
   "cell_type": "code",
   "execution_count": null,
   "id": "2ad769f2",
   "metadata": {},
   "outputs": [],
   "source": []
  },
  {
   "cell_type": "code",
   "execution_count": 2,
   "id": "2a675774",
   "metadata": {},
   "outputs": [],
   "source": [
    "y = x"
   ]
  },
  {
   "cell_type": "code",
   "execution_count": 3,
   "id": "b6ef6802",
   "metadata": {},
   "outputs": [
    {
     "data": {
      "text/plain": [
       "[23, 40, 50, 30, 50]"
      ]
     },
     "execution_count": 3,
     "metadata": {},
     "output_type": "execute_result"
    }
   ],
   "source": [
    "y\n"
   ]
  },
  {
   "cell_type": "code",
   "execution_count": 4,
   "id": "b17f6e5f",
   "metadata": {},
   "outputs": [
    {
     "data": {
      "text/plain": [
       "[23, 40, 50, 30, 50]"
      ]
     },
     "execution_count": 4,
     "metadata": {},
     "output_type": "execute_result"
    }
   ],
   "source": [
    "x"
   ]
  },
  {
   "cell_type": "code",
   "execution_count": 5,
   "id": "bb5f6e39",
   "metadata": {},
   "outputs": [
    {
     "data": {
      "text/plain": [
       "True"
      ]
     },
     "execution_count": 5,
     "metadata": {},
     "output_type": "execute_result"
    }
   ],
   "source": [
    "x == y"
   ]
  },
  {
   "cell_type": "code",
   "execution_count": 6,
   "id": "b1ab5932",
   "metadata": {},
   "outputs": [
    {
     "data": {
      "text/plain": [
       "False"
      ]
     },
     "execution_count": 6,
     "metadata": {},
     "output_type": "execute_result"
    }
   ],
   "source": [
    "x < y"
   ]
  },
  {
   "cell_type": "code",
   "execution_count": 7,
   "id": "390c0afc",
   "metadata": {},
   "outputs": [
    {
     "data": {
      "text/plain": [
       "True"
      ]
     },
     "execution_count": 7,
     "metadata": {},
     "output_type": "execute_result"
    }
   ],
   "source": [
    "x is y"
   ]
  },
  {
   "cell_type": "code",
   "execution_count": 8,
   "id": "38322da2",
   "metadata": {},
   "outputs": [
    {
     "name": "stdout",
     "output_type": "stream",
     "text": [
      "e is greater than f\n"
     ]
    }
   ],
   "source": [
    "e = 10\n",
    "f = 13\n",
    "if e > f:\n",
    "    print(\"e is less than f\")\n",
    "elif e ==f:\n",
    "    print(\"e is equal to f\")\n",
    "else:\n",
    "    print(\"e is greater than f\")"
   ]
  },
  {
   "cell_type": "code",
   "execution_count": null,
   "id": "660e6d53",
   "metadata": {},
   "outputs": [],
   "source": []
  },
  {
   "cell_type": "code",
   "execution_count": 9,
   "id": "b41e865d",
   "metadata": {},
   "outputs": [
    {
     "name": "stdout",
     "output_type": "stream",
     "text": [
      "a is less than b\n",
      "Not sure if a is less than b\n"
     ]
    }
   ],
   "source": [
    "a = 4\n",
    "b = 8\n",
    "if a < b:\n",
    "    print(\"a is less than b\")\n",
    "    print(\"Not sure if a is less than b\")"
   ]
  },
  {
   "cell_type": "code",
   "execution_count": 10,
   "id": "3d030c6f",
   "metadata": {},
   "outputs": [
    {
     "name": "stdout",
     "output_type": "stream",
     "text": [
      "e is equal to f\n"
     ]
    }
   ],
   "source": [
    "e = 10\n",
    "f = 10\n",
    "if e < f:\n",
    "    print(\"e is less than f\")\n",
    "elif e ==f:\n",
    "    print(\"e is equal to f\")\n",
    "    \n",
    "else:\n",
    "    print(\"e is greater than f\")\n",
    "    "
   ]
  },
  {
   "cell_type": "code",
   "execution_count": 17,
   "id": "5327aac1",
   "metadata": {},
   "outputs": [
    {
     "name": "stdout",
     "output_type": "stream",
     "text": [
      "it's warn\n",
      "drink water\n"
     ]
    }
   ],
   "source": [
    "temperature = 30\n",
    "if temperature > 20:\n",
    "    print(\"it's warn\")\n",
    "    print(\"drink water\")\n",
    "else:\n",
    "    print(\"Cool\")\n",
    "        "
   ]
  },
  {
   "cell_type": "code",
   "execution_count": 13,
   "id": "6c3c03bb",
   "metadata": {},
   "outputs": [
    {
     "name": "stdout",
     "output_type": "stream",
     "text": [
      "What is your name chime \n",
      "Hello chime , How are you doing today? \n",
      "What progarm do you love writing Python\n",
      "What is your year of birth 2000\n",
      "Youth\n",
      "You are 22 years old\n"
     ]
    }
   ],
   "source": [
    "Name = input(\"What is your name \")\n",
    "print(f\"Hello {Name}, How are you doing today? \")\n",
    "program = input(\"What progarm do you love writing \")\n",
    "yob = int(input(\"What is your year of birth \"))\n",
    "age = 2022 - yob\n",
    "if age <= 19:\n",
    "  print(\"Tenager\")\n",
    "elif age <= 40:\n",
    "  print(\"Youth\")\n",
    "elif age<=60:\n",
    "  print(\"Adult\")\n",
    "elif age <= 80:\n",
    "  print(\"Elder\")\n",
    "else:\n",
    "  print(\"Aged\")\n",
    "print(f\"You are {age} years old\")\n"
   ]
  },
  {
   "cell_type": "code",
   "execution_count": null,
   "id": "b56446ad",
   "metadata": {},
   "outputs": [],
   "source": []
  },
  {
   "cell_type": "code",
   "execution_count": null,
   "id": "39838b19",
   "metadata": {},
   "outputs": [],
   "source": [
    "x = 6\n",
    "x += 2\n",
    "x"
   ]
  },
  {
   "cell_type": "code",
   "execution_count": null,
   "id": "84a2f79f",
   "metadata": {},
   "outputs": [],
   "source": [
    "z = 6\n",
    "z *= 2\n",
    "z"
   ]
  },
  {
   "cell_type": "code",
   "execution_count": null,
   "id": "8dd35534",
   "metadata": {},
   "outputs": [],
   "source": [
    "t = 6\n",
    "t /= 2\n",
    "t"
   ]
  },
  {
   "cell_type": "code",
   "execution_count": 3,
   "id": "42269c87",
   "metadata": {},
   "outputs": [
    {
     "name": "stdout",
     "output_type": "stream",
     "text": [
      "['rice', 1, 'bean', False, 12.3]\n"
     ]
    }
   ],
   "source": [
    "things = ['rice',1,'bean',False,12.3]\n",
    "print(things)"
   ]
  },
  {
   "cell_type": "code",
   "execution_count": null,
   "id": "299a1767",
   "metadata": {},
   "outputs": [],
   "source": [
    "12 in things"
   ]
  },
  {
   "cell_type": "code",
   "execution_count": null,
   "id": "7f5e9e91",
   "metadata": {},
   "outputs": [],
   "source": [
    "1 in things"
   ]
  },
  {
   "cell_type": "code",
   "execution_count": 13,
   "id": "e98ff8f9",
   "metadata": {},
   "outputs": [],
   "source": [
    "things.append (2)"
   ]
  },
  {
   "cell_type": "code",
   "execution_count": 8,
   "id": "fec3dc4b",
   "metadata": {},
   "outputs": [],
   "source": [
    "things.insert(53,1)"
   ]
  },
  {
   "cell_type": "code",
   "execution_count": 9,
   "id": "21cae444",
   "metadata": {},
   "outputs": [
    {
     "data": {
      "text/plain": [
       "['rice', 1, 'bean', False, 12.3, 2, 2, 2, 2, 1]"
      ]
     },
     "execution_count": 9,
     "metadata": {},
     "output_type": "execute_result"
    }
   ],
   "source": [
    "things"
   ]
  },
  {
   "cell_type": "code",
   "execution_count": 10,
   "id": "3ad64acf",
   "metadata": {},
   "outputs": [],
   "source": [
    "things.insert(0, 53)"
   ]
  },
  {
   "cell_type": "code",
   "execution_count": 11,
   "id": "4f54e7a4",
   "metadata": {},
   "outputs": [
    {
     "data": {
      "text/plain": [
       "[53, 'rice', 1, 'bean', False, 12.3, 2, 2, 2, 2, 1]"
      ]
     },
     "execution_count": 11,
     "metadata": {},
     "output_type": "execute_result"
    }
   ],
   "source": [
    "things"
   ]
  },
  {
   "cell_type": "code",
   "execution_count": null,
   "id": "64e6fdbe",
   "metadata": {},
   "outputs": [],
   "source": [
    "print(things[:3])"
   ]
  },
  {
   "cell_type": "code",
   "execution_count": null,
   "id": "6fe80f34",
   "metadata": {},
   "outputs": [],
   "source": [
    "print(things[1:5])"
   ]
  },
  {
   "cell_type": "code",
   "execution_count": null,
   "id": "35d9cb09",
   "metadata": {},
   "outputs": [],
   "source": [
    "print(things[3:])"
   ]
  },
  {
   "cell_type": "code",
   "execution_count": null,
   "id": "20102843",
   "metadata": {},
   "outputs": [],
   "source": [
    "print(things[-1])"
   ]
  },
  {
   "cell_type": "code",
   "execution_count": null,
   "id": "7eb55b95",
   "metadata": {},
   "outputs": [],
   "source": [
    "num = (5, 6, 5, 3)\n",
    "num"
   ]
  },
  {
   "cell_type": "code",
   "execution_count": null,
   "id": "3d5c81fa",
   "metadata": {},
   "outputs": [],
   "source": [
    "type(num)"
   ]
  },
  {
   "cell_type": "code",
   "execution_count": null,
   "id": "6bd93c9d",
   "metadata": {},
   "outputs": [],
   "source": [
    "nums2 = 5,6"
   ]
  },
  {
   "cell_type": "code",
   "execution_count": null,
   "id": "b47a7941",
   "metadata": {},
   "outputs": [],
   "source": [
    "b,a = nums2"
   ]
  },
  {
   "cell_type": "code",
   "execution_count": null,
   "id": "233303c5",
   "metadata": {},
   "outputs": [],
   "source": [
    "print(b)\n",
    "print(a)"
   ]
  },
  {
   "cell_type": "code",
   "execution_count": null,
   "id": "f23c1c3b",
   "metadata": {},
   "outputs": [],
   "source": [
    "list [2, 4, 5, 2, 4]"
   ]
  },
  {
   "cell_type": "code",
   "execution_count": null,
   "id": "0979cd5e",
   "metadata": {},
   "outputs": [],
   "source": []
  }
 ],
 "metadata": {
  "kernelspec": {
   "display_name": "Python 3 (ipykernel)",
   "language": "python",
   "name": "python3"
  },
  "language_info": {
   "codemirror_mode": {
    "name": "ipython",
    "version": 3
   },
   "file_extension": ".py",
   "mimetype": "text/x-python",
   "name": "python",
   "nbconvert_exporter": "python",
   "pygments_lexer": "ipython3",
   "version": "3.9.12"
  }
 },
 "nbformat": 4,
 "nbformat_minor": 5
}
