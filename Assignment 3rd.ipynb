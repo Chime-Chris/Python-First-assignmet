{
 "cells": [
  {
   "cell_type": "code",
   "execution_count": 3,
   "id": "ce6cc8f7",
   "metadata": {},
   "outputs": [
    {
     "name": "stdout",
     "output_type": "stream",
     "text": [
      "Enter your name: Chris\n",
      "Enter your age: 40\n",
      "Theirs is a young man called Chris ,\n",
      "He is 40 years old ,\n",
      "He loves the name called Chris.\n",
      "Being 40 years old makes hime younger and handsome. \n"
     ]
    }
   ],
   "source": [
    "name = input(\"Enter your name: \")\n",
    "age = input(\"Enter your age: \")\n",
    "print(\"Theirs is a young man called \" + name + \" ,\")\n",
    "print(\"He is \" + age + \" years old ,\")\n",
    "print(\"He loves the name called \" + name + \".\")\n",
    "print(\"Being \" + age + \" years old makes hime younger and handsome. \")"
   ]
  },
  {
   "cell_type": "code",
   "execution_count": 4,
   "id": "53eb3b92",
   "metadata": {},
   "outputs": [
    {
     "name": "stdout",
     "output_type": "stream",
     "text": [
      "Enter your name: Chris\n",
      "Enetr your age: 40\n",
      "Hello Chris your are 40 years old.\n"
     ]
    }
   ],
   "source": [
    "name = input(\"Enter your name: \")\n",
    "age = input(\"Enetr your age: \")\n",
    "print(\"Hello \" + name + \" your are \" + age + \" years old.\")"
   ]
  },
  {
   "cell_type": "code",
   "execution_count": 5,
   "id": "f51af64f",
   "metadata": {},
   "outputs": [
    {
     "name": "stdout",
     "output_type": "stream",
     "text": [
      "['Chris', 'Glory', 'Queen', 'Wisdom']\n",
      "['Chris', 'Glory', 'Queen']\n"
     ]
    }
   ],
   "source": [
    "friends = [\"Chris\", \"Glory\", \"Queen\", \"Wisdom\"]\n",
    "print(friends)\n",
    "print(friends[0:3])"
   ]
  },
  {
   "cell_type": "code",
   "execution_count": 6,
   "id": "0d3eefe3",
   "metadata": {},
   "outputs": [
    {
     "name": "stdout",
     "output_type": "stream",
     "text": [
      "['Chris', 'Glory', 'Queen', 'Wisdom', 2, 3, 5, 'Purity', 23, 54, 85, 95, 10]\n",
      "['Chris', 'Zina', 'Glory', 'Queen', 'Wisdom', 2, 3, 5, 'Purity', 23, 54, 85, 95, 10, 'ifeanyi']\n"
     ]
    }
   ],
   "source": [
    "friends = [\"Chris\", \"Glory\", \"Queen\", \"Wisdom\", 2, 3, 5, \"Purity\"]\n",
    "lucky_num = [23, 54, 85, 95, 10]\n",
    "friends.extend(lucky_num)\n",
    "print(friends)\n",
    "friends.append(\"ifeanyi\")\n",
    "friends.insert(1, \"Zina\")\n",
    "print(friends)"
   ]
  },
  {
   "cell_type": "code",
   "execution_count": 10,
   "id": "92eb5b7d",
   "metadata": {},
   "outputs": [
    {
     "name": "stdout",
     "output_type": "stream",
     "text": [
      "Hello User\n",
      "top\n",
      "bottom\n"
     ]
    }
   ],
   "source": [
    "def say_hi():\n",
    "    print(\"Hello User\")\n",
    "    print(\"top\")\n",
    "say_hi()\n",
    "print(\"bottom\")"
   ]
  },
  {
   "cell_type": "code",
   "execution_count": 11,
   "id": "4241e258",
   "metadata": {},
   "outputs": [
    {
     "name": "stdout",
     "output_type": "stream",
     "text": [
      "Hello Chris\n",
      "Hello Ifeanyi\n",
      "Hello Chris, You are 35, old\n",
      "Hello Ifeanyi, You are 40, old\n"
     ]
    }
   ],
   "source": [
    "def say_hi(name):\n",
    "    print(\"Hello \" + name)\n",
    "\n",
    "\n",
    "say_hi(\"Chris\")\n",
    "say_hi(\"Ifeanyi\")\n",
    "\n",
    "def say_hi(name, age):\n",
    "    print(\"Hello \" + name + \", You are \" + age + \", old\")\n",
    "\n",
    "\n",
    "say_hi(\"Chris\", \"35\")\n",
    "say_hi(\"Ifeanyi\", \"40\")"
   ]
  },
  {
   "cell_type": "code",
   "execution_count": 12,
   "id": "d0864fba",
   "metadata": {},
   "outputs": [
    {
     "name": "stdout",
     "output_type": "stream",
     "text": [
      "Clothes\n"
     ]
    }
   ],
   "source": [
    "list1 = [\"close up\", \"millo\", \"Garri\", \"Televison\", \"Clothes\", \"chips\", \"omo\"]\n",
    "\n",
    "print(list1[4])\n",
    "\n",
    "\n"
   ]
  },
  {
   "cell_type": "code",
   "execution_count": 13,
   "id": "241cf7b1",
   "metadata": {},
   "outputs": [
    {
     "name": "stdout",
     "output_type": "stream",
     "text": [
      "['Tobi', 'Timi']\n"
     ]
    }
   ],
   "source": [
    "list2 = [\"omo\", 2, True, False, 4.32, [\"Tobi\", \"Timi\"]]\n",
    "print(list2[5])"
   ]
  },
  {
   "cell_type": "code",
   "execution_count": 15,
   "id": "eafff441",
   "metadata": {},
   "outputs": [],
   "source": [
    "list1.append(\"Body cream\")"
   ]
  },
  {
   "cell_type": "code",
   "execution_count": 16,
   "id": "4b964743",
   "metadata": {},
   "outputs": [
    {
     "data": {
      "text/plain": [
       "['close up',\n",
       " 'millo',\n",
       " 'Garri',\n",
       " 'Televison',\n",
       " 'Clothes',\n",
       " 'chips',\n",
       " 'omo',\n",
       " 'Body cream',\n",
       " 'Body cream']"
      ]
     },
     "execution_count": 16,
     "metadata": {},
     "output_type": "execute_result"
    }
   ],
   "source": [
    "list1"
   ]
  },
  {
   "cell_type": "code",
   "execution_count": 17,
   "id": "1b1251a7",
   "metadata": {},
   "outputs": [],
   "source": [
    "list1.insert(0, \"Big of Rice\")"
   ]
  },
  {
   "cell_type": "code",
   "execution_count": 18,
   "id": "e22ff417",
   "metadata": {},
   "outputs": [],
   "source": [
    "list1.extend(list2)"
   ]
  },
  {
   "cell_type": "code",
   "execution_count": 19,
   "id": "3e2d5d92",
   "metadata": {},
   "outputs": [
    {
     "name": "stdout",
     "output_type": "stream",
     "text": [
      "['Big of Rice', 'close up', 'millo', 'Garri', 'Televison', 'Clothes', 'chips', 'omo', 'Body cream', 'Body cream', 'omo', 2, True, False, 4.32, ['Tobi', 'Timi']]\n"
     ]
    }
   ],
   "source": [
    "print(list1)"
   ]
  },
  {
   "cell_type": "code",
   "execution_count": 20,
   "id": "2030a0bd",
   "metadata": {},
   "outputs": [
    {
     "data": {
      "text/plain": [
       "'Televison'"
      ]
     },
     "execution_count": 20,
     "metadata": {},
     "output_type": "execute_result"
    }
   ],
   "source": [
    "list1.pop(4)"
   ]
  },
  {
   "cell_type": "code",
   "execution_count": 21,
   "id": "f68d2b93",
   "metadata": {},
   "outputs": [],
   "source": [
    "list1.remove(4.32)"
   ]
  },
  {
   "cell_type": "code",
   "execution_count": 22,
   "id": "2c08d230",
   "metadata": {},
   "outputs": [
    {
     "data": {
      "text/plain": [
       "['Big of Rice',\n",
       " 'close up',\n",
       " 'millo',\n",
       " 'Garri',\n",
       " 'Clothes',\n",
       " 'chips',\n",
       " 'omo',\n",
       " 'Body cream',\n",
       " 'Body cream',\n",
       " 'omo',\n",
       " 2,\n",
       " True,\n",
       " False,\n",
       " ['Tobi', 'Timi']]"
      ]
     },
     "execution_count": 22,
     "metadata": {},
     "output_type": "execute_result"
    }
   ],
   "source": [
    "list1"
   ]
  },
  {
   "cell_type": "code",
   "execution_count": 2,
   "id": "938a834f",
   "metadata": {},
   "outputs": [
    {
     "name": "stdout",
     "output_type": "stream",
     "text": [
      "{'username': 'johnShil', 'firstname': 'shiley', 'lastname': 'John'}\n"
     ]
    }
   ],
   "source": [
    "user = {\n",
    "    'username' : 'johnShil',\n",
    "    'firstname' : 'shiley',\n",
    "    'lastname' : 'John'\n",
    "}\n",
    "print(user)"
   ]
  },
  {
   "cell_type": "code",
   "execution_count": 27,
   "id": "bf91a302",
   "metadata": {},
   "outputs": [
    {
     "name": "stdout",
     "output_type": "stream",
     "text": [
      "key : username\n",
      "key : firstname\n",
      "key : lastname\n"
     ]
    }
   ],
   "source": [
    "for key, value in user.items():\n",
    "    print(f'key : {key}')\n",
    "\n"
   ]
  },
  {
   "cell_type": "code",
   "execution_count": 30,
   "id": "3ef265a1",
   "metadata": {},
   "outputs": [
    {
     "name": "stdout",
     "output_type": "stream",
     "text": [
      "username\n",
      "firstname\n",
      "lastname\n"
     ]
    }
   ],
   "source": [
    "for key in user.keys():\n",
    "     print(key)"
   ]
  },
  {
   "cell_type": "code",
   "execution_count": 33,
   "id": "e508ef81",
   "metadata": {},
   "outputs": [
    {
     "name": "stdout",
     "output_type": "stream",
     "text": [
      "('username', 'johnShil')\n",
      "('firstname', 'shiley')\n",
      "('lastname', 'John')\n"
     ]
    }
   ],
   "source": [
    "for j in user.items():\n",
    "    print(j)"
   ]
  },
  {
   "cell_type": "code",
   "execution_count": 38,
   "id": "bdba2f46",
   "metadata": {},
   "outputs": [
    {
     "name": "stdout",
     "output_type": "stream",
     "text": [
      "('username', 'johnShil')\n",
      "('firstname', 'shiley')\n",
      "('lastname', 'John')\n"
     ]
    }
   ],
   "source": [
    "for j in user.items():\n",
    "    print(j)"
   ]
  },
  {
   "cell_type": "code",
   "execution_count": 39,
   "id": "8cf656d6",
   "metadata": {},
   "outputs": [
    {
     "name": "stdout",
     "output_type": "stream",
     "text": [
      "johnShil\n",
      "shiley\n",
      "John\n"
     ]
    }
   ],
   "source": [
    "for value in user.values():\n",
    "    print(value)\n",
    "  "
   ]
  },
  {
   "cell_type": "code",
   "execution_count": 40,
   "id": "a9973f30",
   "metadata": {},
   "outputs": [
    {
     "name": "stdout",
     "output_type": "stream",
     "text": [
      " (0, 'username')\n",
      " (1, 'firstname')\n",
      " (2, 'lastname')\n"
     ]
    }
   ],
   "source": [
    "for k in enumerate(user):\n",
    "    print(f' {k}')"
   ]
  },
  {
   "cell_type": "code",
   "execution_count": 41,
   "id": "245c9c43",
   "metadata": {},
   "outputs": [
    {
     "name": "stdout",
     "output_type": "stream",
     "text": [
      "JOHN\n"
     ]
    }
   ],
   "source": [
    "  print(value.upper())"
   ]
  },
  {
   "cell_type": "code",
   "execution_count": 42,
   "id": "362f6359",
   "metadata": {},
   "outputs": [
    {
     "name": "stdout",
     "output_type": "stream",
     "text": [
      "   /|\n",
      "  / |\n",
      " /  |\n",
      "/___|\n"
     ]
    }
   ],
   "source": [
    "print(\"   /|\")\n",
    "print(\"  / |\")\n",
    "print(\" /  |\")\n",
    "print(\"/___|\")"
   ]
  },
  {
   "cell_type": "code",
   "execution_count": 46,
   "id": "ca42ecf8",
   "metadata": {
    "scrolled": true
   },
   "outputs": [],
   "source": []
  },
  {
   "cell_type": "code",
   "execution_count": 47,
   "id": "fe25539c",
   "metadata": {},
   "outputs": [],
   "source": []
  },
  {
   "cell_type": "code",
   "execution_count": null,
   "id": "ff027b78",
   "metadata": {},
   "outputs": [],
   "source": []
  }
 ],
 "metadata": {
  "kernelspec": {
   "display_name": "Python 3 (ipykernel)",
   "language": "python",
   "name": "python3"
  },
  "language_info": {
   "codemirror_mode": {
    "name": "ipython",
    "version": 3
   },
   "file_extension": ".py",
   "mimetype": "text/x-python",
   "name": "python",
   "nbconvert_exporter": "python",
   "pygments_lexer": "ipython3",
   "version": "3.9.12"
  }
 },
 "nbformat": 4,
 "nbformat_minor": 5
}
